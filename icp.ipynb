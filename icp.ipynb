{
 "cells": [
  {
   "cell_type": "code",
   "execution_count": 12,
   "metadata": {
    "scrolled": true
   },
   "outputs": [],
   "source": [
    "from typing import Type\n",
    "import open3d as o3d\n",
    "import numpy as np\n",
    "\n",
    "from inspect_pc import threshold_pc_distance\n",
    "from inspect_pc import visualize_two_pc\n",
    "from inspect_pc import visualize_pc"
   ]
  },
  {
   "cell_type": "markdown",
   "metadata": {},
   "source": [
    "# Import, visualize and perform spatial filtering"
   ]
  },
  {
   "cell_type": "code",
   "execution_count": 27,
   "metadata": {},
   "outputs": [],
   "source": [
    "pc_source = o3d.io.read_point_cloud(\"./measurements/pumpkin/20230717-190933.pcd\")\n",
    "pc_target = o3d.io.read_point_cloud(\"./measurements/pumpkin/20230717-190946.pcd\")"
   ]
  },
  {
   "cell_type": "code",
   "execution_count": 28,
   "metadata": {},
   "outputs": [],
   "source": [
    "pc_source = threshold_pc_distance(pc_source, 250, 750)\n",
    "pc_target = threshold_pc_distance(pc_target, 250, 750)"
   ]
  },
  {
   "cell_type": "code",
   "execution_count": 29,
   "metadata": {},
   "outputs": [],
   "source": [
    "visualize_pc(pc_source, 1.5, \"Thresholded point cloud\")"
   ]
  },
  {
   "cell_type": "code",
   "execution_count": 30,
   "metadata": {},
   "outputs": [],
   "source": [
    "visualize_pc(pc_target, 1.5, \"Thresholded point cloud\")"
   ]
  },
  {
   "cell_type": "markdown",
   "metadata": {},
   "source": [
    "# Translate & estimate normals"
   ]
  },
  {
   "cell_type": "code",
   "execution_count": 38,
   "metadata": {},
   "outputs": [
    {
     "data": {
      "text/plain": [
       "PointCloud with 78402 points."
      ]
     },
     "execution_count": 38,
     "metadata": {},
     "output_type": "execute_result"
    }
   ],
   "source": [
    "translation_vector = pc_source.get_center() - pc_target.get_center()\n",
    "pc_target.translate(translation_vector)"
   ]
  },
  {
   "cell_type": "code",
   "execution_count": 39,
   "metadata": {},
   "outputs": [],
   "source": [
    "# Estimate pc normals.\n",
    "radius_normal = 0.005  # 5 cm.\n",
    "pc_source.estimate_normals(\n",
    "    o3d.geometry.KDTreeSearchParamHybrid(radius=radius_normal, max_nn=30)\n",
    ")\n",
    "pc_target.estimate_normals(\n",
    "    o3d.geometry.KDTreeSearchParamHybrid(radius=radius_normal, max_nn=30)\n",
    ")"
   ]
  },
  {
   "cell_type": "markdown",
   "metadata": {},
   "source": [
    "# Register the clouds"
   ]
  },
  {
   "cell_type": "code",
   "execution_count": null,
   "metadata": {},
   "outputs": [],
   "source": [
    "loss = o3d.pipelines.registration.TukeyLoss(k=0.1)\n",
    "result = o3d.pipelines.registration.registration_icp(\n",
    "    pc_source,\n",
    "    pc_target,\n",
    "    0.01,\n",
    "    np.identity(4),\n",
    "    o3d.pipelines.registration.TransformationEstimationPointToPlane(loss),\n",
    ")"
   ]
  },
  {
   "cell_type": "code",
   "execution_count": null,
   "metadata": {},
   "outputs": [],
   "source": [
    "print(result)"
   ]
  },
  {
   "cell_type": "code",
   "execution_count": 42,
   "metadata": {},
   "outputs": [],
   "source": [
    "visualize_two_pc(pc_source, pc_target, 1.5, \"Initial state\")"
   ]
  },
  {
   "cell_type": "code",
   "execution_count": null,
   "metadata": {},
   "outputs": [],
   "source": [
    "visualize_two_pc(pc_source, pc_target, 1.5, \"ICP\", result.transformation)"
   ]
  },
  {
   "cell_type": "code",
   "execution_count": null,
   "metadata": {},
   "outputs": [],
   "source": []
  }
 ],
 "metadata": {
  "kernelspec": {
   "display_name": "oakd",
   "language": "python",
   "name": "oakd"
  },
  "language_info": {
   "codemirror_mode": {
    "name": "ipython",
    "version": 3
   },
   "file_extension": ".py",
   "mimetype": "text/x-python",
   "name": "python",
   "nbconvert_exporter": "python",
   "pygments_lexer": "ipython3",
   "version": "3.8.10"
  }
 },
 "nbformat": 4,
 "nbformat_minor": 2
}
